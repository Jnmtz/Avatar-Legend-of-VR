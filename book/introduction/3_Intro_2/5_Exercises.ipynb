{
  "cells": [
    {
      "cell_type": "markdown",
      "metadata": {
        "id": "KlHSWnbpXTOp"
      },
      "source": [
        "# 3.5 Exercises"
      ]
    },
    {
      "cell_type": "markdown",
      "metadata": {
        "id": "6h8sboFKXTOs"
      },
      "source": [
        "## Exercise 1: Dot notation and basic methods\n",
        "\n",
        "- Create a list and fill it with some random numbers.\n",
        "- Use at least two methods (e.g., `.append()`, `.sort()`) on it. Print the list before and after using the methods."
      ]
    },
    {
      "cell_type": "code",
      "execution_count": 2,
      "metadata": {
        "colab": {
          "base_uri": "https://localhost:8080/"
        },
        "id": "yOuVyEJTXTOs",
        "outputId": "dac130fa-806b-461d-8008-081b3d1c1c84"
      },
      "outputs": [
        {
          "output_type": "stream",
          "name": "stdout",
          "text": [
            "[1, 2, 3, 4, 5]\n",
            "[1, 2, 3, 5]\n"
          ]
        }
      ],
      "source": [
        "# Exercise 1\n",
        "\n",
        "list = [1, 2, 3, 4]\n",
        "\n",
        "list.append(5);\n",
        "print(list)\n",
        "\n",
        "list.pop(3) #removes the elemnt at the third postion (counting starts at 0)\n",
        "print(list)\n"
      ]
    },
    {
      "cell_type": "markdown",
      "metadata": {
        "id": "tDvXR_uBXTOu"
      },
      "source": [
        "## Exercise 2: Everything is an object\n",
        "\n",
        "All data types and structures in Python are objects.\n",
        "\n",
        "- Print all methods associated with the previously created list.\n",
        "- Are the methods different from the methods associated with dictionaries?"
      ]
    },
    {
      "cell_type": "code",
      "execution_count": 3,
      "metadata": {
        "colab": {
          "base_uri": "https://localhost:8080/"
        },
        "id": "5XKXHAIRXTOu",
        "outputId": "57ffd9e4-364f-4338-cc4f-0a57b0d0e23b"
      },
      "outputs": [
        {
          "output_type": "execute_result",
          "data": {
            "text/plain": [
              "['__add__',\n",
              " '__class__',\n",
              " '__class_getitem__',\n",
              " '__contains__',\n",
              " '__delattr__',\n",
              " '__delitem__',\n",
              " '__dir__',\n",
              " '__doc__',\n",
              " '__eq__',\n",
              " '__format__',\n",
              " '__ge__',\n",
              " '__getattribute__',\n",
              " '__getitem__',\n",
              " '__gt__',\n",
              " '__hash__',\n",
              " '__iadd__',\n",
              " '__imul__',\n",
              " '__init__',\n",
              " '__init_subclass__',\n",
              " '__iter__',\n",
              " '__le__',\n",
              " '__len__',\n",
              " '__lt__',\n",
              " '__mul__',\n",
              " '__ne__',\n",
              " '__new__',\n",
              " '__reduce__',\n",
              " '__reduce_ex__',\n",
              " '__repr__',\n",
              " '__reversed__',\n",
              " '__rmul__',\n",
              " '__setattr__',\n",
              " '__setitem__',\n",
              " '__sizeof__',\n",
              " '__str__',\n",
              " '__subclasshook__',\n",
              " 'append',\n",
              " 'clear',\n",
              " 'copy',\n",
              " 'count',\n",
              " 'extend',\n",
              " 'index',\n",
              " 'insert',\n",
              " 'pop',\n",
              " 'remove',\n",
              " 'reverse',\n",
              " 'sort']"
            ]
          },
          "metadata": {},
          "execution_count": 3
        }
      ],
      "source": [
        "# Exercise 2\n",
        "dir(list)"
      ]
    },
    {
      "cell_type": "markdown",
      "metadata": {
        "id": "suV_MRDVXTOu"
      },
      "source": [
        "## Exercise 3: Modules and imports\n",
        "\n",
        "Python has a small built-in namespace, which means there is only a limited amount of functions available by default. To access a wide range of functions and tools, we thus need to import additional modules and libraries. Please do the following:\n",
        "\n",
        "1. Importing Entire Modules:\n",
        "    - Import the entire `math` module.\n",
        "    - Calculate and print the natural logarithm of 20.\n",
        "\n",
        "2. Importing Specific Functions:\n",
        "    - Import only the `pow` function from the `math` module.\n",
        "    - Calculate and print 2 raised to the power of 3 ($2^3$).\n",
        "\n",
        "3. Using Aliases for Modules:\n",
        "    - Import the `numpy` module using the alias `np`.\n",
        "    - Create a numpy array with the values [1, 4, 9, 16, 25].\n",
        "    - Calculate and print the square root of each element in the array using the numpy module.\n",
        "\n",
        "*Hint:* The numpy module is the fundamental Python package for scientific computing in Python. It uses arrays to store data. Please refer to the [documentation](https://numpy.org/doc/stable/reference/generated/numpy.array.html) for the third question. Do not worry about the details, we will discuss this package in more detail next week."
      ]
    },
    {
      "cell_type": "code",
      "execution_count": 9,
      "metadata": {
        "colab": {
          "base_uri": "https://localhost:8080/"
        },
        "id": "yOgeTtmDXTOu",
        "outputId": "02184bae-e9c7-492b-8050-7d149dbb5c28"
      },
      "outputs": [
        {
          "output_type": "stream",
          "name": "stdout",
          "text": [
            "2.995732273553991\n",
            "8.0\n",
            "[1.         2.         3.         3.87298335 5.        ]\n"
          ]
        }
      ],
      "source": [
        "# Exercise 3\n",
        "#1\n",
        "import math\n",
        "natrual_log = math.log(20)\n",
        "print(natrual_log)\n",
        "\n",
        "#2\n",
        "from math import pow\n",
        "raised = pow(2, 3)\n",
        "print(raised)\n",
        "\n",
        " #4\n",
        "import numpy as np\n",
        "ary = [1, 4, 9, 15, 25]\n",
        "square = np.sqrt(ary)\n",
        "print(square)\n",
        "\n",
        "\n"
      ]
    },
    {
      "cell_type": "markdown",
      "metadata": {
        "id": "6B23Ltd1XTOv"
      },
      "source": [
        "## Exercise 4: Functions\n",
        "\n",
        "Write a function `classify_reaction_time(rt)` that classifies a given reaction time (in ms) of a psychological experiment and returns the result as a string:\n",
        "\n",
        "- Below 400 ms: \"Fast Response\"\n",
        "- Between 400 ms and 600 ms: \"Normal Response\"\n",
        "- Above 600 ms: \"Slow Response\"\n",
        "- Use flow control statements (if, elif, else) to handle the classification.\n",
        "\n",
        "Test the function by passing three different response times (fast, normal, slow) to it and printing the result"
      ]
    },
    {
      "cell_type": "code",
      "execution_count": 19,
      "metadata": {
        "colab": {
          "base_uri": "https://localhost:8080/"
        },
        "id": "5xq8gBR6XTOv",
        "outputId": "e6aed3c3-a016-4c6d-d742-0abc09f5a693"
      },
      "outputs": [
        {
          "output_type": "stream",
          "name": "stdout",
          "text": [
            "Fast Response\n"
          ]
        }
      ],
      "source": [
        "# Exercise 4\n",
        "def classify_reaction_time(rt):\n",
        "  if rt < 400:\n",
        "    return \"Fast Response\"\n",
        "  elif rt >= 400 or rt <= 400:\n",
        "    return \"Normal Response\"\n",
        "  elif rt > 600:\n",
        "    return \"Slow Response\"\n",
        "\n",
        "result = classify_reaction_time(300)\n",
        "print (result)"
      ]
    },
    {
      "cell_type": "markdown",
      "metadata": {
        "id": "2mhcHTwOXTOv"
      },
      "source": [
        "## Exercise 5: More functions\n",
        "\n",
        "1. Create a function that takes in the radius of a circle and returns its area.\n",
        "2. Run the function by providing a radius and print the resulting area."
      ]
    },
    {
      "cell_type": "code",
      "execution_count": 21,
      "metadata": {
        "colab": {
          "base_uri": "https://localhost:8080/"
        },
        "id": "4JthsLp7XTOw",
        "outputId": "4cba2b44-e4a6-48fe-b77a-664777635d21"
      },
      "outputs": [
        {
          "output_type": "stream",
          "name": "stdout",
          "text": [
            "78.53981633974483\n"
          ]
        }
      ],
      "source": [
        "# Exercise 5\n",
        "import math\n",
        "def radius_to_area(rd):\n",
        "    area = math.pi * (rd ** 2)\n",
        "    return area\n",
        "\n",
        "area = radius_to_area(5)\n",
        "print(area)"
      ]
    },
    {
      "cell_type": "markdown",
      "metadata": {
        "id": "kHUHHDfnXTOw"
      },
      "source": [
        "## Exercise 6: Classes\n",
        "\n",
        "Functions are nice if you need to perform a specific, isolated computation. However, sometimes it is uesful to create encapsulate objects that have different properties (attributes) and actions (methods). For example, look at the provided code snippet.\n",
        "\n",
        "An instance of `Circle` is created by providing a radius: `my_circle = Circle(radius=5)`. This radius is then assigned to the `self.radius` attribute of the class. The only method in the class is the `calculate_area()` method that (if called) calculates the area of the circle, assigns it to a newly created `self.area` attribute.\n",
        "\n",
        "Please do the following:\n",
        "\n",
        "1. In `Circle`, implement a second method that calculates the circumference of the circle. Calculate and ürint the circumference.\n",
        "2. Implement a new class called `Square` that has a single attribute `.side`, and two methods for area and circumference. Calculate and print both."
      ]
    },
    {
      "cell_type": "code",
      "execution_count": 31,
      "metadata": {
        "colab": {
          "base_uri": "https://localhost:8080/"
        },
        "id": "ahCXN8JRXTOw",
        "outputId": "fff9338c-9556-4abb-c14c-1e53ee77b59d"
      },
      "outputs": [
        {
          "output_type": "stream",
          "name": "stdout",
          "text": [
            "The area of the circle is: : 78.53981633974483 and the circumference 31.41592653589793\n",
            "The area of the square is: 25 and the circumference is: 20\n"
          ]
        }
      ],
      "source": [
        "from math import pi\n",
        "\n",
        "class Circle:\n",
        "  def __init__(self, radius):\n",
        "    self.radius = radius\n",
        "\n",
        "  def calculate_area(self):\n",
        "    self.area = pi * self.radius**2\n",
        "\n",
        "  def calculate_circumference(self):\n",
        "    self.circumference = 2 *pi * self.radius\n",
        "\n",
        "# Create an instance of the Circle class and calculate the area and circumference\n",
        "my_circle = Circle(radius=5)\n",
        "my_circle.calculate_area()\n",
        "my_circle.calculate_circumference()\n",
        "\n",
        "print(f\"The area of the circle is: : {my_circle.area} and the circumference {my_circle.circumference}\")\n",
        "\n",
        "class Square:\n",
        "  def __init__(self, side):\n",
        "    self.side = side\n",
        "\n",
        "  def area(self):\n",
        "   self.area = self.side ** 2\n",
        "\n",
        "  def circumference(self):\n",
        "    self.circumference = 4 * self.side\n",
        "\n",
        "my_square = Square(side=5)\n",
        "my_square.area()\n",
        "my_square.circumference()\n",
        "print(f\"The area of the square is: {my_square.area} and the circumference is: {my_square.circumference}\")\n"
      ]
    },
    {
      "cell_type": "markdown",
      "metadata": {
        "id": "DK0a3TTcXTOx"
      },
      "source": [
        "## Voluntary Exercise 1: Nested functions\n",
        "\n",
        "In this exercise, you will create functions that simulate a participant's decision-making process during a psychological experiment. The goal is to reinforce defining and using functions, handling parameters, and using control flow.\n",
        "\n",
        "1. Creating a Decision Function\n",
        "\n",
        "    - Write a function `make_decision(response_time, threshold)` that takes two arguments:\n",
        "        - `response_time`: The time (in milliseconds) it takes for the participant to make a decision (an integer).\n",
        "        - `threshold`: The decision threshold (an integer).\n",
        "    - The function should:\n",
        "        - Print \"Decision Made!\" if `response_time` is less than or equal to the threshold.\n",
        "        - Print \"Too Slow! No Decision.\" if `response_time` is greater than the threshold.\n",
        "\n",
        "2. Simulating a Reaction Time Task\n",
        "\n",
        "    - Create a function `simulate_reaction_task(mean_rt, variability)` that simulates a participant's response time:\n",
        "        - `mean_rt`: The average response time (an integer).\n",
        "        - `variability`: The maximum amount by which the response time can vary (an integer).\n",
        "    - The function should:\n",
        "        - Use a random number generator (from the `random` module) to create a response time by adding a random value (between `-variability` and `+variability`) to `mean_rt`.\n",
        "        - Return the generated `response_time`.\n",
        "\n",
        "3. Running the Simulation\n",
        "\n",
        "    - Create a main function `run_experiment()` that:\n",
        "        - Sets a `mean_rt` of 500 ms and a variability of 100 ms.\n",
        "        - Sets a `threshold` of 550 ms.\n",
        "        - Calls `simulate_reaction_task()` three times to generate three different response times.\n",
        "        - Calls `make_decision()` for each response time to determine if a decision was made.\n",
        "        - Prints the response times and the decision outcomes."
      ]
    },
    {
      "cell_type": "code",
      "execution_count": null,
      "metadata": {
        "id": "uZTSS02bXTOx"
      },
      "outputs": [],
      "source": [
        "# Voluntary Exercise 1"
      ]
    },
    {
      "cell_type": "markdown",
      "metadata": {
        "id": "H7YqLQrAXTOx"
      },
      "source": [
        "## Voluntrary Exercise 2: Classes and inheritance\n",
        "\n",
        "In this exercise, you will create a class that simulates a simple neuron. The neuron will allow energy deposits (representing excitatory input), energy reductions (representing inhibitory input), and checking its activation level.\n",
        "\n",
        "1. Create the class\n",
        "    - Write a class `Neuron` with the following attributes:\n",
        "        - `neuron_name`: The name of the neuron (e.g., \"Neuron A\").\n",
        "        - `activation_level`: The current activation level (default is 0).\n",
        "    - Implement the following methods:\n",
        "        - `excite(amount)`: Adds amount to the activation_level (representing excitatory input).\n",
        "        - `inhibit(amount)`: Subtracts amount from the activation_level (representing inhibitory input). If the activation level becomes negative, set it to 0 and print a message indicating that the neuron has reached its inhibitory limit.\n",
        "        - `check_activation()`: Prints the current activation level.\n",
        "\n",
        "2. Test the class\n",
        "    - Create an instance of `Neuron` for a neuron named \"Neuron A\" with an initial activation level of 20. Apply an excitatory input of 30, then apply an inhibitory input of 70. Print the final activation level."
      ]
    },
    {
      "cell_type": "code",
      "execution_count": null,
      "metadata": {
        "id": "c_fmxh0OXTOx"
      },
      "outputs": [],
      "source": [
        "# Voluntary Exercise 2"
      ]
    },
    {
      "cell_type": "markdown",
      "metadata": {
        "id": "kmMFgfyxXTOy"
      },
      "source": [
        "In object oriented programming, classes can inherit attributes or methods from an existing class (base or parent class). This allows the subclass to reuse and extend the functionality of the parent class, adding its own specialized behavior. Have a look at an [online tutorial](https://www.w3schools.com/python/python_inheritance.asp) to figure out how this can be implemented.\n",
        "\n",
        "1. Create a subclass `InhibitoryNeuron` that inherits from Neuron.\n",
        "    - Override the `inhibit(amount)` method such that it adds an additional 10% inhibition (e.g., if 50 is passed as the amount, it should inhibit by 55).\n",
        "\n",
        "2. Test the `InhibitoryNeuron` class by creating an instance, applying excitation and inhibition, and checking the activation level."
      ]
    },
    {
      "cell_type": "code",
      "execution_count": null,
      "metadata": {
        "id": "floT0uG_XTOy"
      },
      "outputs": [],
      "source": [
        "# Voluntary Exercise 2"
      ]
    },
    {
      "cell_type": "markdown",
      "metadata": {
        "id": "ojLxIObLXTOy"
      },
      "source": [
        "## Voluntary Exercise 3: List comprehensions\n",
        "\n",
        "You learned about nested statements in previous sessions. Please carefully read the following code. What is its purpose?"
      ]
    },
    {
      "cell_type": "code",
      "execution_count": null,
      "metadata": {
        "id": "M1BSfFsYXTOy",
        "outputId": "127ccec0-2575-4346-bd52-72efb36aea8f"
      },
      "outputs": [
        {
          "name": "stdout",
          "output_type": "stream",
          "text": [
            "Only the string values: ['banana', 'apple', 'hello']\n"
          ]
        }
      ],
      "source": [
        "random_stuff = [1, \"banana\", \"apple\", 3.14, 7, \"hello\"]\n",
        "strings_only = [] # empty list for filtered vaues\n",
        "\n",
        "# Loop through the list\n",
        "for elem in random_stuff:\n",
        "    # if the current element is a string...\n",
        "    if isinstance(elem, str):\n",
        "        # ...then append the value to strings_only\n",
        "        strings_only.append(elem)\n",
        "\n",
        "print(f\"Only the string values: {strings_only}\")"
      ]
    },
    {
      "cell_type": "markdown",
      "metadata": {
        "id": "t4-Wjmk4XTOy"
      },
      "source": [
        "Python offers a feature called *list comprehension*. This allows you to write for-loops in a more compact way. List comprehensions are *syntactic sugar*, which means they do not add any additional features and are just a way of making the code a bit shorter (and maybe even nicer to read once you get used to them). Take a look at the following example which prints the elements of the `random_stuff` list:"
      ]
    },
    {
      "cell_type": "code",
      "execution_count": null,
      "metadata": {
        "id": "seXT12eVXTOy",
        "outputId": "e9b050c8-9340-4f53-80bc-e6c1b572a539"
      },
      "outputs": [
        {
          "name": "stdout",
          "output_type": "stream",
          "text": [
            "1\n",
            "banana\n",
            "apple\n",
            "3.14\n",
            "7\n",
            "hello\n"
          ]
        }
      ],
      "source": [
        "p = [print(elem) for elem in random_stuff]"
      ]
    },
    {
      "cell_type": "markdown",
      "metadata": {
        "id": "bmCFLw-zXTOy"
      },
      "source": [
        "Can you implement the previous code block that filters the strings from the list by using a single list comprehension?"
      ]
    },
    {
      "cell_type": "code",
      "execution_count": null,
      "metadata": {
        "id": "McP4DRvQXTOy"
      },
      "outputs": [],
      "source": [
        "# Voluntary Exercise 3"
      ]
    }
  ],
  "metadata": {
    "kernelspec": {
      "display_name": "psy111",
      "language": "python",
      "name": "python3"
    },
    "language_info": {
      "codemirror_mode": {
        "name": "ipython",
        "version": 3
      },
      "file_extension": ".py",
      "mimetype": "text/x-python",
      "name": "python",
      "nbconvert_exporter": "python",
      "pygments_lexer": "ipython3",
      "version": "3.13.0"
    },
    "colab": {
      "provenance": []
    }
  },
  "nbformat": 4,
  "nbformat_minor": 0
}